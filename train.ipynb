{
 "cells": [
  {
   "attachments": {},
   "cell_type": "markdown",
   "metadata": {},
   "source": [
    "# IDRNN\n",
    "[Description]\n",
    "(Add description here)\n",
    "\n",
    "The goal of the project:\n",
    "1. palceholder\n",
    "2. placeholder\n"
   ]
  },
  {
   "attachments": {},
   "cell_type": "markdown",
   "metadata": {},
   "source": [
    "# Dataset"
   ]
  },
  {
   "attachments": {},
   "cell_type": "markdown",
   "metadata": {},
   "source": [
    "First download the dataset."
   ]
  },
  {
   "attachments": {},
   "cell_type": "markdown",
   "metadata": {},
   "source": [
    "# Packages"
   ]
  },
  {
   "cell_type": "code",
   "execution_count": null,
   "metadata": {},
   "outputs": [],
   "source": [
    "# !pip3 install -r requirements.txt"
   ]
  },
  {
   "cell_type": "code",
   "execution_count": null,
   "metadata": {},
   "outputs": [],
   "source": [
    "%load_ext autoreload\n",
    "%autoreload 2\n",
    "import numpy as np\n",
    "import torch\n",
    "from tqdm import tqdm\n",
    "from torch.utils.data import  Dataset, DataLoader\n",
    "import torch.nn.functional as F\n",
    "\n"
   ]
  },
  {
   "attachments": {},
   "cell_type": "markdown",
   "metadata": {},
   "source": [
    "# load data and print it"
   ]
  },
  {
   "cell_type": "code",
   "execution_count": null,
   "metadata": {},
   "outputs": [],
   "source": [
    "# from dataloader import ProteinDataset, proteinread\n",
    "from dataloader import AminoAcidDataset"
   ]
  },
  {
   "cell_type": "code",
   "execution_count": null,
   "metadata": {},
   "outputs": [],
   "source": [
    "\n",
    "input_csv_file = \"data.csv\"\n",
    "\n",
    "max_sequence_length = 1000\n",
    "num_amino_acids = 20\n",
    "\n",
    "dataset = AminoAcidDataset(input_csv_file, max_sequence_length, num_amino_acids)\n",
    "\n",
    "# Create a DataLoader\n",
    "batch_size = 128\n",
    "dataloader = DataLoader(dataset, batch_size=batch_size, shuffle=True)\n",
    "\n",
    "\n"
   ]
  },
  {
   "cell_type": "code",
   "execution_count": null,
   "metadata": {},
   "outputs": [],
   "source": [
    "# pick up one sequence to show how our data looks like\n",
    "g, g_len, target = dataset[65]\n",
    "print(g)\n",
    "print(g_len)\n",
    "print(target)"
   ]
  },
  {
   "cell_type": "code",
   "execution_count": null,
   "metadata": {},
   "outputs": [],
   "source": [
    "\n",
    "# Create an empty list to store the numerical sequences\n",
    "training_sequences = []\n",
    "# Iterate over the training_dataset\n",
    "for sample in dataset:\n",
    "    # Extract the numerical part (the first element of the tuple) and append it to the list\n",
    "    training_sequences.append(sample[0])\n",
    "\n",
    "# Print the list of training sequences\n",
    "print(training_sequences[65])"
   ]
  },
  {
   "cell_type": "code",
   "execution_count": null,
   "metadata": {
    "tags": [
     "Help function"
    ]
   },
   "outputs": [],
   "source": [
    "print(training_sequences)"
   ]
  },
  {
   "attachments": {},
   "cell_type": "markdown",
   "metadata": {},
   "source": [
    "# Helper function and calculation (kld reconstruct loss) and printer form tuorial 6"
   ]
  },
  {
   "cell_type": "code",
   "execution_count": null,
   "metadata": {},
   "outputs": [],
   "source": [
    "import matplotlib.pyplot as plt\n",
    "from matplotlib.gridspec import GridSpec"
   ]
  },
  {
   "cell_type": "code",
   "execution_count": null,
   "metadata": {},
   "outputs": [],
   "source": [
    "## Help function from tutroial 6 to calculate loss and plotting\n",
    "\n",
    "def count_parameters(model):\n",
    "    total_params = sum(p.numel() for p in model.parameters())\n",
    "    return total_params\n",
    "def plot_losses(reco_losses, kld_losses):\n",
    "    fig = plt.figure(figsize=(10, 5))\n",
    "\n",
    "    ax = fig.add_subplot(1, 2, 1)\n",
    "    ax.plot(reco_losses)\n",
    "    ax.set_title('Reconstruction Loss')\n",
    "\n",
    "    ax = fig.add_subplot(1, 2, 2)\n",
    "    ax.plot(kld_losses)\n",
    "    ax.set_title('KLD Loss')\n",
    "\n"
   ]
  },
  {
   "attachments": {},
   "cell_type": "markdown",
   "metadata": {},
   "source": [
    "# trainning loop based on tutorial 6"
   ]
  },
  {
   "cell_type": "code",
   "execution_count": null,
   "metadata": {},
   "outputs": [],
   "source": [
    "from model_VAE import VAECNN\n",
    "\n",
    "latent_dim = 512\n",
    "\n",
    "vae = VAECNN(input_size=21, output_size=21, latent_dim=latent_dim)\n",
    "\n",
    "if torch.cuda.is_available():\n",
    "    vae.cuda()"
   ]
  },
  {
   "cell_type": "code",
   "execution_count": null,
   "metadata": {},
   "outputs": [],
   "source": [
    "print(f'VAE has {count_parameters(vae):,} trainable parameters')"
   ]
  },
  {
   "cell_type": "code",
   "execution_count": null,
   "metadata": {},
   "outputs": [],
   "source": [
    "\n",
    "optimizer = torch.optim.Adam(vae.parameters(), lr=1e-3)\n",
    "\n",
    "beta = 0 # Weight of the KL divergence term\n",
    "alpha = 1 # weight for cross entropy loss\n",
    "\n",
    "def vae_loss(recon_x, target, mu, logvar):\n",
    "    # Reconstruction loss\n",
    "    recon_loss = []\n",
    "    for batch in range(recon_x.shape[0]):\n",
    "        recon_batch = recon_x[batch, :, :]\n",
    "        target_batch = target[batch, :]\n",
    "        # print(recon_batch.shape, target_batch.shape)\n",
    "        cross_entropy_loss = F.cross_entropy(input=recon_batch.squeeze(0), target=target_batch.squeeze(0), reduction='mean')\n",
    "        # print(cross_entropy_loss)\n",
    "        recon_loss.append(cross_entropy_loss)\n",
    "    recon_loss = torch.mean(torch.stack(recon_loss)) # stack the tensor to tensor list\n",
    "    \n",
    "    # Regularization term (KL divergence)\n",
    "    kl_divergence = -0.5 * torch.sum(1 + logvar - mu.pow(2) - logvar.exp())\n",
    "    \n",
    "    # Combine reconstruction loss and regularization term\n",
    "    total_loss = (beta * kl_divergence) + (alpha * recon_loss)\n",
    "    \n",
    "    return kl_divergence, recon_loss, total_loss\n",
    "\n",
    "num_epochs = 20\n",
    "num_batches = len(dataloader)\n",
    "\n",
    "total_losses = []\n",
    "reco_losses = []\n",
    "kld_losses  = []\n",
    "\n",
    "for epoch in tqdm(range(num_epochs)):\n",
    "    vae.train()\n",
    "    temp_total_loss = 0\n",
    "    temp_reco_loss = 0\n",
    "    temp_kld_loss = 0\n",
    "    \n",
    "    \n",
    "    for seq_batch, length_batch, target_batch in dataloader:\n",
    "        if torch.cuda.is_available():\n",
    "            seq_batch = seq_batch.cuda()\n",
    "            length_batch = length_batch.cuda()\n",
    "            target_batch = target_batch.cuda()\n",
    "        optimizer.zero_grad()\n",
    "        \n",
    "        recon_batch, mean, logvar = vae(seq_batch)\n",
    "        kld_loss, reco_loss, total_loss = vae_loss(recon_batch, target_batch, mean, logvar)\n",
    "        \n",
    "        temp_total_loss += total_loss\n",
    "        temp_kld_loss += kld_loss\n",
    "        temp_reco_loss += reco_loss\n",
    "    \n",
    "        total_loss.backward()\n",
    "        optimizer.step()\n",
    "\n",
    "    total_losses.append(total_loss.item())\n",
    "    reco_losses.append(reco_loss.item())\n",
    "    kld_losses.append(kld_loss.item())\n",
    "    print(total_losses[epoch],  min(total_losses))\n",
    "    if epoch == 0 or total_losses[epoch] <= min(total_losses):\n",
    "        torch.save(vae.state_dict(), \"vae_model.pt\")\n",
    "        print(\"Model saved\")\n",
    "        \n",
    "    print(f\"Epoch [{epoch+1}/{num_epochs}], Loss: {total_loss:.4f}\")\n"
   ]
  },
  {
   "cell_type": "code",
   "execution_count": null,
   "metadata": {},
   "outputs": [],
   "source": [
    "\n",
    "plot_losses(reco_losses, kld_losses)"
   ]
  }
 ],
 "metadata": {
  "kernelspec": {
   "display_name": "Python 3",
   "language": "python",
   "name": "python3"
  },
  "language_info": {
   "codemirror_mode": {
    "name": "ipython",
    "version": 3
   },
   "file_extension": ".py",
   "mimetype": "text/x-python",
   "name": "python",
   "nbconvert_exporter": "python",
   "pygments_lexer": "ipython3",
   "version": "3.11.4"
  },
  "orig_nbformat": 4
 },
 "nbformat": 4,
 "nbformat_minor": 2
}
